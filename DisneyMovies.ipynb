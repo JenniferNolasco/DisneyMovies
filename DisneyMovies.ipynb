{
 "cells": [
  {
   "cell_type": "markdown",
   "metadata": {},
   "source": [
    "### Importing Libraries"
   ]
  },
  {
   "cell_type": "code",
   "execution_count": 14,
   "metadata": {},
   "outputs": [],
   "source": [
    "import requests\n",
    "from bs4 import BeautifulSoup as bs"
   ]
  },
  {
   "cell_type": "markdown",
   "metadata": {},
   "source": [
    "### Scraping Wikipedia"
   ]
  },
  {
   "cell_type": "code",
   "execution_count": 146,
   "metadata": {},
   "outputs": [],
   "source": [
    "def get_values(row): # returns dictionary values\n",
    "    if row.find('li'):\n",
    "        return [item.get_text(\" \", strip=True).replace('\\xa0', ' ') for item in row.find_all('li')]\n",
    "    else:\n",
    "        return row.get_text(\" \", strip=True).replace('\\xa0', ' ')\n",
    "\n",
    "\n",
    "def get_info_box(url):\n",
    "    r1 = requests.get(url) # getting the webpage\n",
    "    soup1 = bs(r1.content)\n",
    "\n",
    "    infoBox = soup1.find(class_='infobox vevent') #getting the info box\n",
    "    ib_content = infoBox.find_all('tr')\n",
    "    \n",
    "    movies = {}\n",
    "    for index, row in enumerate(ib_content): # creates dictionary pairs and puts them into movies dictionary\n",
    "        if index == 0:\n",
    "            movies['Title'] = row.find('th').get_text(\" \", strip=True)\n",
    "        elif index == 1:\n",
    "            continue\n",
    "        else:\n",
    "            key = row.find('th').get_text(\" \", strip=True)\n",
    "            value = get_values(row.find('td'))\n",
    "            movies[key] = value\n",
    "    return movies"
   ]
  },
  {
   "cell_type": "code",
   "execution_count": 147,
   "metadata": {},
   "outputs": [],
   "source": [
    "r = requests.get('https://en.wikipedia.org/wiki/List_of_Walt_Disney_Pictures_films') # getting the wikipage w/ the masterlist\n",
    "soup = bs(r.content)\n",
    "table = soup.select('.wikitable.sortable i a')\n",
    "link = 'https://en.wikipedia.org'\n",
    "\n",
    "\n",
    "movie_list = []\n",
    "for index, item in enumerate(table):\n",
    "    if index == 10:\n",
    "        break\n",
    "    try:\n",
    "        relative_path = item['href']\n",
    "        full_path = link+relative_path\n",
    "        title = item['title']\n",
    "        movie_list.append(get_info_box(full_path))\n",
    "    except Exception as e:\n",
    "        print(item.get_text())\n",
    "        print(e)\n",
    "        "
   ]
  },
  {
   "cell_type": "markdown",
   "metadata": {},
   "source": [
    "### Save and load data"
   ]
  },
  {
   "cell_type": "code",
   "execution_count": 152,
   "metadata": {},
   "outputs": [],
   "source": [
    "import json\n",
    "\n",
    "def save_data(title, data):\n",
    "    with open(title, 'w', encoding='utf-8') as f:\n",
    "        json.dump(data, f, ensure_ascii=False, indent=2)\n",
    "        \n",
    "def load_data(title):\n",
    "    with open(title, encoding='utf-8') as f:\n",
    "        return json.load(f)\n",
    "    \n",
    "save_data('DisneyMovies', movie_list)"
   ]
  },
  {
   "cell_type": "code",
   "execution_count": null,
   "metadata": {},
   "outputs": [],
   "source": []
  },
  {
   "cell_type": "code",
   "execution_count": null,
   "metadata": {},
   "outputs": [],
   "source": []
  },
  {
   "cell_type": "code",
   "execution_count": 149,
   "metadata": {},
   "outputs": [],
   "source": [
    "r1 = requests.get('https://en.wikipedia.org/wiki/Academy_Award_Review_of_Walt_Disney_Cartoons') # getting the webpage\n",
    "soup = bs(r1.content)"
   ]
  },
  {
   "cell_type": "code",
   "execution_count": 150,
   "metadata": {},
   "outputs": [],
   "source": [
    "# grabbing only the info box\n",
    "infoBox = soup.find(class_='infobox vevent')\n",
    "ib_content = infoBox.find_all('tr')"
   ]
  },
  {
   "cell_type": "code",
   "execution_count": 151,
   "metadata": {},
   "outputs": [
    {
     "data": {
      "text/plain": [
       "{'Title': 'Academy Award Review of Walt Disney Cartoons',\n",
       " 'Production company': 'Walt Disney Productions',\n",
       " 'Release date': ['May 19, 1937 ( 1937-05-19 )'],\n",
       " 'Running time': '41 minutes (74 minutes 1966 release)',\n",
       " 'Country': 'United States',\n",
       " 'Language': 'English',\n",
       " 'Box office': '$45.472'}"
      ]
     },
     "execution_count": 151,
     "metadata": {},
     "output_type": "execute_result"
    }
   ],
   "source": [
    "movies = {}\n",
    "\n",
    "def get_values(row): # returns dictionary values\n",
    "    if row.find('li'):\n",
    "        return [item.get_text(\" \", strip=True).replace('\\xa0', ' ') for item in row.find_all('li')]\n",
    "    else:\n",
    "        return row.get_text(\" \", strip=True).replace('\\xa0', ' ')\n",
    "\n",
    "for index, row in enumerate(ib_content): # creates dictionary pairs and puts them into movies dictionary\n",
    "    if index == 0:\n",
    "        movies['Title'] = row.find('th').get_text(\" \", strip=True)\n",
    "    elif index == 1:\n",
    "        continue\n",
    "    else:\n",
    "        key = row.find('th').get_text(\" \", strip=True)\n",
    "        value = get_values(row.find('td'))\n",
    "        movies[key] = value\n",
    "\n",
    "movies"
   ]
  },
  {
   "cell_type": "code",
   "execution_count": null,
   "metadata": {},
   "outputs": [],
   "source": []
  }
 ],
 "metadata": {
  "kernelspec": {
   "display_name": "Python 3",
   "language": "python",
   "name": "python3"
  },
  "language_info": {
   "codemirror_mode": {
    "name": "ipython",
    "version": 3
   },
   "file_extension": ".py",
   "mimetype": "text/x-python",
   "name": "python",
   "nbconvert_exporter": "python",
   "pygments_lexer": "ipython3",
   "version": "3.8.3"
  }
 },
 "nbformat": 4,
 "nbformat_minor": 4
}
